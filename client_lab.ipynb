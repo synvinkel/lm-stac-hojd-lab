{
 "cells": [
  {
   "cell_type": "markdown",
   "id": "e1384bb2-1974-43fc-93c8-5a8c4629573a",
   "metadata": {},
   "source": [
    "# PySTAC Client exempel\n",
    "\n",
    "Dokumentation: https://pystac-client.readthedocs.io/en/stable/index.html"
   ]
  },
  {
   "cell_type": "code",
   "execution_count": null,
   "id": "7d1a6e63-f684-4c6f-80e1-d631ce9006a5",
   "metadata": {},
   "outputs": [],
   "source": [
    "from pystac_client import Client\n",
    "from copy import deepcopy\n",
    "\n",
    "import geopandas as gpd\n",
    "import pandas as pd\n",
    "from shapely.geometry import shape"
   ]
  },
  {
   "cell_type": "code",
   "execution_count": null,
   "id": "dc2ae28a-e7ea-4903-9027-0d85a1ddaf4e",
   "metadata": {},
   "outputs": [],
   "source": [
    "# convert a list of STAC Items into a GeoDataFrame\n",
    "def items_to_geodataframe(items):\n",
    "    _items = []\n",
    "    for i in items:\n",
    "        _i = deepcopy(i)\n",
    "        _i[\"geometry\"] = shape(_i[\"geometry\"])\n",
    "        _items.append(_i)\n",
    "    gdf = gpd.GeoDataFrame(pd.json_normalize(_items))\n",
    "    for field in [\"properties.datetime\", \"properties.created\", \"properties.updated\"]:\n",
    "        if field in gdf:\n",
    "            gdf[field] = pd.to_datetime(gdf[field])\n",
    "    gdf.set_index(\"properties.datetime\", inplace=True)\n",
    "    return gdf"
   ]
  },
  {
   "cell_type": "markdown",
   "id": "0be20db5-c5b0-495c-9a88-92a0c10c78b8",
   "metadata": {},
   "source": [
    "Sätt inloggningsuppgifter och skapa klient:"
   ]
  },
  {
   "cell_type": "code",
   "execution_count": null,
   "id": "8b348c97-ee5c-4b6d-9c94-0688d8ddd67b",
   "metadata": {},
   "outputs": [],
   "source": [
    "import base64\n",
    "import pystac_client\n",
    "\n",
    "# encode credentials\n",
    "user_name = \"Be not afraid\"\n",
    "password = \"hemligt\"\n",
    "userpass = f\"{user_name}:{password}\"\n",
    "b64_userpass = base64.b64encode(userpass.encode()).decode()\n",
    "\n",
    "# API url\n",
    "base_url = \"https://api.lantmateriet.se/stac-hojd/v1\"\n",
    "\n",
    "# create the client\n",
    "client = pystac_client.Client.open(\n",
    "    url=base_url,\n",
    "    headers={\n",
    "        'Authorization': f\"Basic {b64_userpass}\"\n",
    "    }\n",
    ")"
   ]
  },
  {
   "cell_type": "markdown",
   "id": "1fdc91b6-0a2c-44a5-b631-c6d73c9425e0",
   "metadata": {},
   "source": [
    "## Sök collections\n",
    "Dokumentation: https://pystac-client.readthedocs.io/en/stable/api.html#pystac_client.Client.search"
   ]
  },
  {
   "cell_type": "code",
   "execution_count": null,
   "id": "b6f8e160-5a2c-401d-b223-284b3b7f53f1",
   "metadata": {},
   "outputs": [],
   "source": [
    "search = client.search(max_items=10)\n",
    "items = list(search.items_as_dicts())\n",
    "len(items)"
   ]
  },
  {
   "cell_type": "code",
   "execution_count": null,
   "id": "ddb470ba-41e3-429c-80d9-1ec8dc112952",
   "metadata": {},
   "outputs": [],
   "source": [
    "items_gdf = items_to_geodataframe(items)"
   ]
  },
  {
   "cell_type": "markdown",
   "id": "31ab2fee-8a84-41ab-a944-642eabf721e8",
   "metadata": {},
   "source": [
    "## Visualisera"
   ]
  },
  {
   "cell_type": "code",
   "execution_count": null,
   "id": "c900cbbe-65fe-4674-8859-3e591eaf4f2f",
   "metadata": {},
   "outputs": [],
   "source": [
    "import folium\n",
    "# Create minimal dataset\n",
    "minimal_gdf = items_gdf[['geometry']].copy()\n",
    "minimal_gdf = minimal_gdf.set_crs(epsg=4326, allow_override=True)\n",
    "\n",
    "# Project to a suitable projected CRS (Web Mercator) for centroid calculation\n",
    "projected_gdf = minimal_gdf.to_crs(epsg=3857)\n",
    "center_point = projected_gdf.geometry.centroid.to_crs(epsg=4326)\n",
    "\n",
    "# Create folium map using the properly calculated center\n",
    "m = folium.Map(location=[center_point.y.mean(), \n",
    "                        center_point.x.mean()],\n",
    "               zoom_start=10)\n",
    "\n",
    "# Add GeoDataFrame to the map (make sure it's in WGS84/EPSG:4326)\n",
    "folium.GeoJson(minimal_gdf.to_crs(epsg=4326)).add_to(m)\n",
    "m"
   ]
  },
  {
   "cell_type": "markdown",
   "id": "4a2d122e-eff7-486d-b22a-7dc41d86dc29",
   "metadata": {},
   "source": [
    "## Hämta data med Rasterio"
   ]
  },
  {
   "cell_type": "code",
   "execution_count": null,
   "id": "87424f3c-cda2-4d2e-8513-c680f4588cc9",
   "metadata": {},
   "outputs": [],
   "source": [
    "import rasterio\n",
    "from rasterio.plot import show"
   ]
  },
  {
   "cell_type": "code",
   "execution_count": null,
   "id": "a97c9d0d-95d9-4772-94be-50d14a981f73",
   "metadata": {},
   "outputs": [],
   "source": [
    "# change this to 'data' when we get correct permissions\n",
    "ASSET_TYPE = 'thumbnail'"
   ]
  },
  {
   "cell_type": "code",
   "execution_count": null,
   "id": "6f2002d6-bae3-4ef0-b538-24148de6b0e5",
   "metadata": {},
   "outputs": [],
   "source": [
    "import rasterio.plot\n",
    "with rasterio.open(items[0]['assets'][ASSET_TYPE]['href']) as dataset:\n",
    "    rasterio.plot.show(dataset)"
   ]
  }
 ],
 "metadata": {
  "kernelspec": {
   "display_name": "project",
   "language": "python",
   "name": "project"
  },
  "language_info": {
   "codemirror_mode": {
    "name": "ipython",
    "version": 3
   },
   "file_extension": ".py",
   "mimetype": "text/x-python",
   "name": "python",
   "nbconvert_exporter": "python",
   "pygments_lexer": "ipython3",
   "version": "3.10.13"
  }
 },
 "nbformat": 4,
 "nbformat_minor": 5
}
